{
 "cells": [
  {
   "cell_type": "code",
   "execution_count": 1,
   "metadata": {},
   "outputs": [],
   "source": [
    "freaky_dataset_path = fr\"./datasets/comparison_data_v2.json\"\n",
    "clean_dataset_path = fr\"./datasets/comparison_clean.txt\"\n",
    "\n",
    "allowed_chars = \"abcdefghijklmnopqrstuvwxyz .:-()[]1234567890\\/'\"\n",
    "\n",
    "chunk_size = 1024 * 1024 * 1024\n",
    "\n",
    "replace_sequences = {r'\"user_input\":': \"[human]\",\n",
    "                     r'\"response\":': \"[network]\",\n",
    "                     r'.,': \".\",\n",
    "                     r'\"score\": 0.0,': \"\",\n",
    "                     r'\"score\": 1.0,': \"\",\n",
    "                     r'\"score\": 2.0,': \"\",\n",
    "                     r'\"score\": 3.0,': \"\",\n",
    "                     r'\"score\": 4.0,': \"\",\n",
    "                     r'\"score\": 5.0,': \"\",\n",
    "                     r'\"score\": 6.0,': \"\",\n",
    "                     r'\"score\": 7.0,': \"\",\n",
    "                     r'\"score\": 8.0,': \"\",\n",
    "                     r'\"score\": 9.0,': \"\",\n",
    "                     r'\"score\": 10.0,': \"\",\n",
    "                     r'\"source\": \"text-davinci-003\"': \"\",\n",
    "                     r'\"source\": \"gpt4\"': \"\",\n",
    "                     r'\"source\": \"icm-1.3b\"': \"\",\n",
    "                     r'\\n': \" \",\n",
    "                     r'below is an instruction that describes a task. write a response that appropriately completes the request': \"\",\n",
    "                     r'instruction:': \"\",\n",
    "                     r' ] ': \" \",\n",
    "                     r' [ ': \" \",\n",
    "                     r' s': \"'s\",\n",
    "                     r' :': \":\",\n",
    "                     r'responses and': \"\"}"
   ]
  },
  {
   "cell_type": "code",
   "execution_count": 2,
   "metadata": {},
   "outputs": [],
   "source": [
    "def remove_unwanted_chars(text, allowed_chars=allowed_chars):\n",
    "    copy = \"\"\n",
    "    \n",
    "    for char in text:\n",
    "        if char in allowed_chars:\n",
    "            copy += char\n",
    "            continue\n",
    "        \n",
    "        copy += \" \"\n",
    "    \n",
    "    return copy"
   ]
  },
  {
   "cell_type": "code",
   "execution_count": 3,
   "metadata": {},
   "outputs": [],
   "source": [
    "def remove_unwanted_sequences(text, replace_sequences=replace_sequences):\n",
    "    for current_replace in replace_sequences.keys():\n",
    "        text = text.replace(current_replace, replace_sequences[current_replace])\n",
    "    \n",
    "    return text"
   ]
  },
  {
   "cell_type": "code",
   "execution_count": 4,
   "metadata": {},
   "outputs": [],
   "source": [
    "with open(freaky_dataset_path, 'r', encoding='utf-8', errors='ignore') as freaky_file:\n",
    "    with open(clean_dataset_path, 'w', encoding='utf-8', errors='ignore') as clean_file:\n",
    "        while True:\n",
    "            # Read chunk\n",
    "            chunk = freaky_file.read(chunk_size)\n",
    "            \n",
    "            if not chunk:\n",
    "                break\n",
    "            \n",
    "            # Process chunk\n",
    "            clean_text = chunk.lower()\n",
    "            clean_text = remove_unwanted_sequences(clean_text)\n",
    "            clean_text = remove_unwanted_chars(clean_text)\n",
    "            \n",
    "            while \"  \" in clean_text:\n",
    "                clean_text = clean_text.replace(\"  \", \" \")\n",
    "            \n",
    "            # Write cleaned chunk\n",
    "            clean_file.write(clean_text)"
   ]
  },
  {
   "cell_type": "code",
   "execution_count": null,
   "metadata": {},
   "outputs": [],
   "source": []
  }
 ],
 "metadata": {
  "kernelspec": {
   "display_name": "CONDA_VENV",
   "language": "python",
   "name": "python3"
  },
  "language_info": {
   "codemirror_mode": {
    "name": "ipython",
    "version": 3
   },
   "file_extension": ".py",
   "mimetype": "text/x-python",
   "name": "python",
   "nbconvert_exporter": "python",
   "pygments_lexer": "ipython3",
   "version": "3.11.9"
  }
 },
 "nbformat": 4,
 "nbformat_minor": 2
}
