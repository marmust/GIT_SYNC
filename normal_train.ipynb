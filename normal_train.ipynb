{
 "cells": [
  {
   "cell_type": "code",
   "execution_count": 1,
   "metadata": {},
   "outputs": [
    {
     "name": "stderr",
     "output_type": "stream",
     "text": [
      "/opt/conda/envs/pytorch/lib/python3.11/site-packages/transformers/tokenization_utils_base.py:1601: FutureWarning: `clean_up_tokenization_spaces` was not set. It will be set to `True` by default. This behavior will be depracted in transformers v4.45, and will be then set to `False` by default. For more details check this issue: https://github.com/huggingface/transformers/issues/31884\n",
      "  warnings.warn(\n"
     ]
    }
   ],
   "source": [
    "import gensim\n",
    "from gensim.models import Word2Vec\n",
    "from gensim.utils import simple_preprocess\n",
    "import numpy as np\n",
    "from tqdm import tqdm\n",
    "import matplotlib.pyplot as plt\n",
    "import random\n",
    "import torch\n",
    "import torch.nn as nn\n",
    "import torch.nn.functional as F\n",
    "from torch.utils.data import Dataset, DataLoader, random_split\n",
    "import pickle\n",
    "import threading\n",
    "from IPython.display import clear_output\n",
    "import time\n",
    "import tokenizer"
   ]
  },
  {
   "cell_type": "code",
   "execution_count": 2,
   "metadata": {},
   "outputs": [],
   "source": [
    "# exquisite acronym explanation (also sounds like lean):\n",
    "# R - recurrent\n",
    "# E - embedding\n",
    "# A - approximation\n",
    "# N - network"
   ]
  },
  {
   "cell_type": "code",
   "execution_count": 3,
   "metadata": {},
   "outputs": [],
   "source": [
    "# embeddings model\n",
    "model_file = fr\"./embedding_models/tokenized_microvector32v1.model\"\n",
    "embeddings_model = Word2Vec.load(model_file)\n",
    "\n",
    "vector_size = embeddings_model.vector_size       # aka embedding dim \n",
    "window = embeddings_model.window                 # not important, scared to delete\n",
    "\n",
    "# neural net settings\n",
    "context_length = 8                               # tokens to consider\n",
    "attn_heads = 16                                   # num attention heads per mechanism (per transformer block)\n",
    "dropout_prob = 0.1                                # for dropout layers\n",
    "\n",
    "# dataset\n",
    "train_dataset_path = fr\"./datasets/alpaca_clean.txt\"\n",
    "test_dataset_path = fr\"./datasets/alpaca_clean.txt\"\n",
    "\n",
    "tokens_train = 1024 * 8 * 8# * 8 * 8 * 8# * 8\n",
    "tokens_test = 1024 * 8 * 8\n",
    "\n",
    "aprox_chars_train = tokens_train * tokenizer.average_token_length\n",
    "aprox_chars_test = tokens_test * tokenizer.average_token_length\n",
    "\n",
    "# training\n",
    "train_epochs = 32\n",
    "warmup_epochs = 4\n",
    "\n",
    "initial_warmup_lr =   0.00001\n",
    "final_warmup_lr =     0.00003\n",
    "initial_train_lr =    0.00003\n",
    "final_train_lr =      0.00001\n",
    "\n",
    "class CosineSimilarityLoss(nn.Module):\n",
    "    def __init__(self):\n",
    "        super(CosineSimilarityLoss, self).__init__()\n",
    "\n",
    "    def forward(self, output1, output2):\n",
    "        # Calculate the cosine similarity between the two outputs\n",
    "        cosine_similarity = F.cosine_similarity(output1, output2)\n",
    "        # The loss could be 1 minus the cosine similarity to maximize similarity\n",
    "        loss = 1 - cosine_similarity.mean()\n",
    "        return loss\n",
    "\n",
    "loss = CosineSimilarityLoss()\n",
    "\n",
    "train_optimizer = torch.optim.Adam\n",
    "warmup_optimizer = torch.optim.Adam\n",
    "\n",
    "train_scheduler = torch.optim.lr_scheduler.CosineAnnealingLR\n",
    "warmup_scheduler = torch.optim.lr_scheduler.CosineAnnealingLR\n",
    "\n",
    "train_batch_size = int(4096 * 2)\n",
    "test_batch_size = int(4096 * 2)\n",
    "test_loop_epoch = 4\n",
    "\n",
    "plot_graphs = True\n",
    "plot_batches = 256\n",
    "\n",
    "# pytorch\n",
    "run_device = torch.device(\"cuda\")\n",
    "storage_device = torch.device(\"cpu\")"
   ]
  },
  {
   "cell_type": "code",
   "execution_count": 4,
   "metadata": {},
   "outputs": [],
   "source": [
    "class attention_block(nn.Module):\n",
    "    def __init__(self, vector_size=vector_size, attn_heads=attn_heads):\n",
    "        super(attention_block, self).__init__()\n",
    "        # MultiheadAttention module\n",
    "        self.multihead_attn = nn.MultiheadAttention(embed_dim=vector_size, num_heads=attn_heads)\n",
    "        \n",
    "        # Layer normalization\n",
    "        self.norm = nn.LayerNorm(vector_size)\n",
    "\n",
    "    def forward(self, x):\n",
    "        # Prepare for multi-head attention (transpose to (sentence_len, batch_size, embedding_dim))\n",
    "        x = x.transpose(0, 1)\n",
    "        \n",
    "        # Apply multi-head attention\n",
    "        attn_output, attn_weights = self.multihead_attn(x, x, x)\n",
    "        \n",
    "        # Residual connection and layer normalization\n",
    "        x = self.norm(x + attn_output)\n",
    "        \n",
    "        # Transpose back to (batch_size, sentence_len, embedding_dim)\n",
    "        output = x.transpose(0, 1)\n",
    "        \n",
    "        return output, attn_weights"
   ]
  },
  {
   "cell_type": "code",
   "execution_count": 5,
   "metadata": {},
   "outputs": [],
   "source": [
    "class transformer_block(nn.Module):\n",
    "    def __init__(self, context_length=context_length, vector_size=vector_size, dropout_prob=dropout_prob):\n",
    "        super(transformer_block, self).__init__()\n",
    "        \n",
    "        self.local_context_length = context_length\n",
    "        self.local_vector_size = vector_size\n",
    "        self.local_dropout_prob = dropout_prob\n",
    "        \n",
    "        self.attn = attention_block()\n",
    "        \n",
    "        self.fc1 = nn.Linear(self.local_context_length * self.local_vector_size, 2048)\n",
    "        self.fc2 = nn.Linear(2048, 2048)\n",
    "        self.fc3 = nn.Linear(2048, self.local_context_length * self.local_vector_size)\n",
    "        \n",
    "        self.dropout1 = nn.Dropout(self.local_dropout_prob)\n",
    "        self.dropout2 = nn.Dropout(self.local_dropout_prob)\n",
    "        self.dropout3 = nn.Dropout(self.local_dropout_prob)\n",
    "\n",
    "    def forward(self, prev_block: torch.Tensor) -> torch.Tensor:\n",
    "        # run attn block\n",
    "        prev_block, _ = self.attn(prev_block)\n",
    "        \n",
    "        # reshape into (batches, context_length * vector_size) for linear layers\n",
    "        x = prev_block.reshape((prev_block.shape[0], self.local_context_length * self.local_vector_size))\n",
    "        \n",
    "        # feedforward & dropout\n",
    "        x = F.gelu(self.fc1(x))\n",
    "        x = self.dropout1(x)\n",
    "        \n",
    "        x = F.gelu(self.fc2(x))\n",
    "        x = self.dropout2(x)\n",
    "        \n",
    "        x = F.gelu(self.fc3(x))\n",
    "        x = self.dropout3(x)\n",
    "        \n",
    "        # reshape back into (batches, context_length, vector_size) for next block\n",
    "        x = x.reshape(prev_block.shape[0], self.local_context_length, self.local_vector_size)\n",
    "        \n",
    "        return x"
   ]
  },
  {
   "cell_type": "code",
   "execution_count": 6,
   "metadata": {},
   "outputs": [],
   "source": [
    "class residual_transformer_block(nn.Module):\n",
    "    def __init__(self, context_length=context_length, vector_size=vector_size, dropout_prob=dropout_prob):\n",
    "        super(residual_transformer_block, self).__init__()\n",
    "        \n",
    "        self.local_context_length = context_length\n",
    "        self.local_vector_size = vector_size\n",
    "        self.local_dropout_prob = dropout_prob\n",
    "        \n",
    "        self.attn = attention_block()\n",
    "        \n",
    "        # account for previous block's output + global network input\n",
    "        self.fc1 = nn.Linear((self.local_context_length * self.local_vector_size) * 2, 2048)\n",
    "        self.fc2 = nn.Linear(2048, 2048)\n",
    "        self.fc3 = nn.Linear(2048, self.local_context_length * self.local_vector_size)\n",
    "        \n",
    "        self.dropout1 = nn.Dropout(self.local_dropout_prob)\n",
    "        self.dropout2 = nn.Dropout(self.local_dropout_prob)\n",
    "        self.dropout3 = nn.Dropout(self.local_dropout_prob)\n",
    "\n",
    "    def forward(self, prev_block: torch.Tensor, res_connection: torch.Tensor) -> torch.Tensor:\n",
    "        # run attn block\n",
    "        res_connection, _ = self.attn(res_connection)\n",
    "        \n",
    "        # reshape for concat into (batches, vec_size * con_len) (for both)\n",
    "        res_connection = res_connection.reshape((res_connection.shape[0], self.local_context_length * self.local_vector_size))\n",
    "        prev_block = prev_block.reshape((prev_block.shape[0], self.local_context_length * self.local_vector_size))\n",
    "        \n",
    "        # combine whatever came out from the attn with the previous block's output\n",
    "        x = torch.cat((prev_block, res_connection), dim=1)\n",
    "        \n",
    "        # feedforward & dropout\n",
    "        x = F.gelu(self.fc1(x))\n",
    "        x = self.dropout1(x)\n",
    "        \n",
    "        x = F.gelu(self.fc2(x))\n",
    "        x = self.dropout2(x)\n",
    "        \n",
    "        x = F.gelu(self.fc3(x))\n",
    "        x = self.dropout3(x)\n",
    "        \n",
    "        # reshape back into (batches, context_length, vector_size) for next block\n",
    "        x = x.reshape(prev_block.shape[0], self.local_context_length, self.local_vector_size)\n",
    "        \n",
    "        return x"
   ]
  },
  {
   "cell_type": "code",
   "execution_count": 7,
   "metadata": {},
   "outputs": [],
   "source": [
    "class end_cap(nn.Module):\n",
    "    def __init__(self, context_length=context_length, vector_size=vector_size, dropout_prob=dropout_prob):\n",
    "        super(end_cap, self).__init__()\n",
    "        \n",
    "        self.local_context_length = context_length\n",
    "        self.local_vector_size = vector_size\n",
    "        self.local_dropout_prob = dropout_prob\n",
    "        \n",
    "        self.attn = attention_block()\n",
    "        \n",
    "        self.fc1 = nn.Linear(self.local_context_length * self.local_vector_size, 2048)\n",
    "        self.fc2 = nn.Linear(2048, 2048)\n",
    "        self.fc3 = nn.Linear(2048, self.local_vector_size)\n",
    "        \n",
    "        self.dropout1 = nn.Dropout(self.local_dropout_prob)\n",
    "        self.dropout2 = nn.Dropout(self.local_dropout_prob)\n",
    "        self.dropout3 = nn.Dropout(self.local_dropout_prob)\n",
    "\n",
    "    def forward(self, prev_block: torch.Tensor) -> torch.Tensor:\n",
    "        # run attn block\n",
    "        prev_block, _ = self.attn(prev_block)\n",
    "        \n",
    "        # reshape into (batches, context_length * vector_size) for linear layers\n",
    "        x = prev_block.reshape((prev_block.shape[0], self.local_context_length * self.local_vector_size))\n",
    "        \n",
    "        # feedforward & dropout\n",
    "        x = F.gelu(self.fc1(x))\n",
    "        x = self.dropout1(x)\n",
    "        \n",
    "        x = F.gelu(self.fc2(x))\n",
    "        x = self.dropout2(x)\n",
    "        \n",
    "        x = self.fc3(x)\n",
    "        x = self.dropout3(x)\n",
    "        \n",
    "        return x"
   ]
  },
  {
   "cell_type": "code",
   "execution_count": 8,
   "metadata": {},
   "outputs": [],
   "source": [
    "class REAN(nn.Module):\n",
    "    def __init__(self):\n",
    "        super(REAN, self).__init__()\n",
    "        \n",
    "        self.T1 = transformer_block()\n",
    "        self.T2 = transformer_block()\n",
    "        self.T3 = transformer_block()\n",
    "        \n",
    "        self.RT1 = residual_transformer_block()\n",
    "        \n",
    "        self.T4 = transformer_block()\n",
    "        self.T5 = transformer_block()\n",
    "        self.T6 = transformer_block()\n",
    "        \n",
    "        self.RT2 = residual_transformer_block()\n",
    "        \n",
    "        self.ecap = end_cap()\n",
    "\n",
    "    def forward(self, current_segment: torch.Tensor) -> torch.Tensor:\n",
    "        # Get the max values in each example\n",
    "        self.norm_vals = torch.max(current_segment, dim=2, keepdim=True).values\n",
    "        \n",
    "        # Add a small epsilon to avoid division by zero\n",
    "        epsilon = 1e-12  # Reduced epsilon for greater precision\n",
    "        self.norm_vals = self.norm_vals + epsilon\n",
    "        \n",
    "        # Normalize each example on its own\n",
    "        current_segment = current_segment / self.norm_vals\n",
    "                \n",
    "        # Keep a clone of x from the start so the blocks get fresh input\n",
    "        self.res_connection = current_segment.clone()\n",
    "        \n",
    "        ################### RUN THROUGH TRANSFORMER ###################\n",
    "        \n",
    "        current_segment = self.T1(current_segment)\n",
    "        current_segment = self.T2(current_segment)\n",
    "        current_segment = self.T3(current_segment)\n",
    "        \n",
    "        current_segment = self.RT1(current_segment, self.res_connection)\n",
    "        \n",
    "        current_segment = self.T4(current_segment)\n",
    "        current_segment = self.T5(current_segment)\n",
    "        current_segment = self.T6(current_segment)\n",
    "        \n",
    "        current_segment = self.RT2(current_segment, self.res_connection)\n",
    "        \n",
    "        current_segment = self.ecap(current_segment)\n",
    "        \n",
    "        ################### RUN THROUGH TRANSFORMER ###################\n",
    "                \n",
    "        # De-normalize\n",
    "        norm_vals_expanded = self.norm_vals[:, -1]  # Select the last time step's norm values\n",
    "        \n",
    "        current_segment = current_segment * norm_vals_expanded\n",
    "        \n",
    "        # Clip values to avoid extreme values\n",
    "        current_segment = torch.clamp(current_segment, min=-8, max=8)\n",
    "        \n",
    "        return current_segment\n",
    "\n",
    "net = REAN()\n",
    "net.to(run_device)\n",
    "\n",
    "train_optimizer = train_optimizer(net.parameters(), lr=initial_train_lr)\n",
    "warmup_optimizer = warmup_optimizer(net.parameters(), lr=initial_warmup_lr)\n",
    "\n",
    "train_scheduler = train_scheduler(train_optimizer, T_max=train_epochs, eta_min=final_train_lr)\n",
    "warmup_scheduler = warmup_scheduler(warmup_optimizer, T_max=warmup_epochs, eta_min=final_warmup_lr)"
   ]
  },
  {
   "cell_type": "code",
   "execution_count": 9,
   "metadata": {},
   "outputs": [
    {
     "name": "stdout",
     "output_type": "stream",
     "text": [
      "neural net weight: 0.1783GB\n"
     ]
    }
   ],
   "source": [
    "print(f\"neural net weight: {sum(param.numel() * param.element_size() for param in net.parameters()) / (1024 ** 3):.4f}GB\")"
   ]
  },
  {
   "cell_type": "code",
   "execution_count": 10,
   "metadata": {},
   "outputs": [],
   "source": [
    "def vectorize_sentence(sentence: list[str], model: Word2Vec=embeddings_model, default: int = 0) -> np.ndarray:\n",
    "    \"\"\"\n",
    "    encodes all words in a given list to corresponding vectors in given model.\n",
    "    words not found in the model will be given a vector with \"default\" value\n",
    "    \n",
    "    parameters:\n",
    "        sentence (list): list of strings (tokenized sentence)\n",
    "        model (Word2Vec): model to use when encoding\n",
    "        default (int): fill vector with this value if word is not found in model\n",
    "    \n",
    "    returns:\n",
    "        np.array: 2d array with dim1 = len(sentence) and dim2 = model.vector_size\n",
    "    \"\"\"\n",
    "    \n",
    "    # generate inital array with default values\n",
    "    vectorized = np.ones((len(sentence), model.vector_size)) * default\n",
    "    \n",
    "    # loop over every word in list\n",
    "    for current_word, current_word_idx in zip(sentence, range(len(sentence))):\n",
    "        # only add correct values if word is in model, otherwise leave as default\n",
    "        if current_word in model.wv:\n",
    "            vectorized[current_word_idx] *= 0\n",
    "            vectorized[current_word_idx] += model.wv[current_word]\n",
    "    \n",
    "    return vectorized"
   ]
  },
  {
   "cell_type": "code",
   "execution_count": 11,
   "metadata": {},
   "outputs": [],
   "source": [
    "def devectorize_sentence(vectorized_sentence: np.array, model: Word2Vec=embeddings_model) -> list:\n",
    "    \"\"\"\n",
    "    decodes vectors into nearest word found in model\n",
    "    \n",
    "    parameters:\n",
    "        vectorized_sentence (np.array): 2d arrat with vectors of words to be decoded\n",
    "        model (Word2Vec): model to use when decoding\n",
    "    \n",
    "    returns:\n",
    "        list: list of strings (words) whos vectors most closely match those provided\n",
    "    \"\"\"\n",
    "    \n",
    "    result = []\n",
    "    \n",
    "    # go over all words and find closest match in model\n",
    "    for current_word in vectorized_sentence:\n",
    "        result.append(model.wv.similar_by_vector(current_word)[0][0])\n",
    "    \n",
    "    return result"
   ]
  },
  {
   "cell_type": "code",
   "execution_count": 12,
   "metadata": {},
   "outputs": [],
   "source": [
    "def pad_or_truncate(suspected_tensor: torch.tensor, target_length: int, default: int=0) -> torch.Tensor:\n",
    "    \"\"\"\n",
    "    pads or truncates a given tensor along dim 0 to target_length with \"default\" as padding\n",
    "    \n",
    "    parameters:\n",
    "        suspected_tensor (torch.tensor): tensor to pad or truncate\n",
    "        target_length (int): target length of tensor\n",
    "        default (int): value to use for padding\n",
    "    \n",
    "    returns:\n",
    "        torch.tensor: tensor of proper length no matter what\n",
    "    \"\"\"\n",
    "    \n",
    "    if len(suspected_tensor) < target_length:\n",
    "        # pad\n",
    "        suspected_tensor = torch.cat((torch.ones(target_length - len(suspected_tensor), suspected_tensor.shape[1], dtype=torch.float32, device=suspected_tensor.device) * default, suspected_tensor))\n",
    "    else:\n",
    "        # truncate\n",
    "        suspected_tensor = suspected_tensor[-target_length:]\n",
    "    \n",
    "    return suspected_tensor"
   ]
  },
  {
   "cell_type": "code",
   "execution_count": 13,
   "metadata": {},
   "outputs": [],
   "source": [
    "def prepare_sentence_for_net(sentence: str, model: Word2Vec=embeddings_model, context_length: int=context_length, flatten: bool = True, used_device: torch.device = run_device) -> torch.Tensor:\n",
    "    \"\"\"\n",
    "    Turns a sentence (list of strings) into a tensor that can be fed directly into the network\n",
    "    \n",
    "    Parameters:\n",
    "        sentence (str): sentence to be prepared\n",
    "        model (Word2Vec): model to use when encoding sentence\n",
    "        context_length (int): length of context to consider when encoding, should be same as network's\n",
    "        flatten (bool): whether to flatten the tensor to fit into the first fc layer of the net\n",
    "        used_device (torch.device): the device to use for the tensor\n",
    "    \n",
    "    Returns:\n",
    "        torch.Tensor: tensor of proper length no matter what\n",
    "    \"\"\"\n",
    "    \n",
    "    # tokenize sentence to list[str, str ...]\n",
    "    tokenized = tokenizer.tokenize_sentence(sentence)\n",
    "    \n",
    "    # Encode sentence to numpy array\n",
    "    vectorized = vectorize_sentence(tokenized, model)\n",
    "    \n",
    "    # Directly create the tensor on the target device\n",
    "    vectorized_tensor = torch.tensor(vectorized, dtype=torch.float32, device=used_device)\n",
    "    \n",
    "    # Pad or truncate\n",
    "    vectorized_tensor = pad_or_truncate(vectorized_tensor, context_length)\n",
    "    \n",
    "    if flatten:\n",
    "        # Flatten to fit into the first fully connected layer of the net\n",
    "        vectorized_tensor = vectorized_tensor.flatten()\n",
    "    \n",
    "    return vectorized_tensor"
   ]
  },
  {
   "cell_type": "code",
   "execution_count": 14,
   "metadata": {},
   "outputs": [],
   "source": [
    "def predict_word(current_segment: str, net: REAN=net, embeddings_model: Word2Vec=embeddings_model) -> str:\n",
    "    \"\"\"\n",
    "    uses the net and the model to predict the next token to fit the given current_segment\n",
    "    \n",
    "    parameters:\n",
    "        current_segment (str): prompt sentence\n",
    "        net (REAN): net to use when predicting\n",
    "        model (Word2Vec): embedding model to use when encoding sentence\n",
    "    \n",
    "    returns:\n",
    "        str: predicted word\n",
    "    \"\"\"\n",
    "    encoded_segment = prepare_sentence_for_net(current_segment, embeddings_model, context_length, flatten=False)\n",
    "    \n",
    "    # run sentence\n",
    "    output = net(encoded_segment.unsqueeze(0))\n",
    "    \n",
    "    # add the net's vector to the end of the current segment\n",
    "    target = output# + encoded_segment[-1]\n",
    "    \n",
    "    # decode most similar word to whatever net predicted\n",
    "    predicted_word = embeddings_model.wv.similar_by_vector(target.detach().squeeze(0).cpu().numpy())[0][0]\n",
    "    \n",
    "    return predicted_word"
   ]
  },
  {
   "cell_type": "code",
   "execution_count": 15,
   "metadata": {},
   "outputs": [],
   "source": [
    "def predict_sequence(sentence: str, num_completions: int, net: REAN=net, embeddings_model: Word2Vec=embeddings_model) -> list:\n",
    "    \"\"\"\n",
    "    predicts multiple words at the end of the given sentence\n",
    "    \n",
    "    parameters:\n",
    "        sentence (str): sentence / prompt\n",
    "        num_completions (int): number of tokens to predict\n",
    "        net (REAN): net to use when predicting\n",
    "        model (Word2Vec): embedding model to use when encoding sentence\n",
    "    \n",
    "    returns:\n",
    "        list: list of words to be appended to given sentence\n",
    "    \"\"\"\n",
    "    \n",
    "    predicted_result = sentence\n",
    "    \n",
    "    for _ in tqdm(range(num_completions)):\n",
    "        # give the network the full context to work with, while only collecting the predicted part into the result\n",
    "        predicted_result += predict_word(predicted_result, net=net, embeddings_model=embeddings_model)\n",
    "    \n",
    "    return predicted_result"
   ]
  },
  {
   "cell_type": "code",
   "execution_count": 20,
   "metadata": {},
   "outputs": [],
   "source": [
    "class REAN_dataset(Dataset):\n",
    "    def get_dataset_size(self):\n",
    "        \"\"\"\n",
    "        function to check how many characters (/examples) there are in the txt file\n",
    "        \n",
    "        Args:\n",
    "            None\n",
    "        \n",
    "        Returns:\n",
    "            tuple of (int, bool): the actual size of the dataset (in tokens), weather the txt is smaller than requested\n",
    "        \"\"\"\n",
    "        \n",
    "        with open(self.path) as self.file:\n",
    "            for self.current_char_idx in range(self.num_tokens):\n",
    "                # check for EOF\n",
    "                if not self.file.read(1):\n",
    "                    # the - self.context_length * tokenizer.max_token_size is to make sure we dont bump into the end of the file when reading\n",
    "                    return (self.current_char_idx - self.context_length * tokenizer.max_token_size) / tokenizer.average_token_length, True\n",
    "        \n",
    "            return (self.current_char_idx - self.context_length * tokenizer.max_token_size) / tokenizer.average_token_length, False\n",
    "    \n",
    "    def retrieve_example(self, start_token_idx) -> tuple[np.ndarray, np.ndarray]:\n",
    "        # pull the correct chunk from the dataset\n",
    "        with open(self.path) as file:\n",
    "            file.seek(start_token_idx * tokenizer.average_token_length)\n",
    "            \n",
    "            # load the correct amount of tokens + 1 for predicting assuming that they are all the biggest one in the vocab\n",
    "            # (will be cut down later)\n",
    "            self.extracted_text = file.read((self.context_length + 1) * tokenizer.max_token_size)\n",
    "        \n",
    "        # turn the tokenized sentence into a tensor ready to go into the network (this also pad/truncates the extracted text)\n",
    "        self.training_pair = prepare_sentence_for_net(self.extracted_text, flatten=False, used_device=storage_device)\n",
    "        \n",
    "        # split into prompt, and token to be predicted\n",
    "        self.prompt = self.training_pair[:-1]\n",
    "        self.completion = self.training_pair[-1]\n",
    "        \n",
    "        return self.prompt, self.completion\n",
    "        \n",
    "    def __init__(self, path, num_tokens, context_length, embeddings_model):\n",
    "        # transfer to object wide variables\n",
    "        self.path = path\n",
    "        self.context_length = context_length\n",
    "        self.embeddings_model = embeddings_model\n",
    "        self.num_tokens = num_tokens\n",
    "        \n",
    "        # get the actual allowed size of the dataset\n",
    "        self.dataset_len, self.short = self.get_dataset_size()\n",
    "        \n",
    "        print(\"the txt file has been scouted succesfully\")\n",
    "        \n",
    "        if self.short:\n",
    "            print(\"but EOF was hit before your requested size was reached, so the dataset might be shorter than what you expect\")\n",
    "        \n",
    "        print(f\"requested size: {self.num_tokens} actual size: {self.dataset_len}\")\n",
    "\n",
    "    def __len__(self):\n",
    "        return self.dataset_len\n",
    "    \n",
    "    def __getitem__(self, index):\n",
    "        return self.retrieve_example(index)"
   ]
  },
  {
   "cell_type": "code",
   "execution_count": 21,
   "metadata": {},
   "outputs": [
    {
     "name": "stdout",
     "output_type": "stream",
     "text": [
      "the txt file has been scouted succesfully\n",
      "requested size: 65536 actual size: 13081.4\n",
      "the txt file has been scouted succesfully\n",
      "requested size: 65536 actual size: 13081.4\n"
     ]
    }
   ],
   "source": [
    "train_dataset = REAN_dataset(train_dataset_path, tokens_train, context_length, embeddings_model)\n",
    "test_dataset = REAN_dataset(test_dataset_path, tokens_test, context_length, embeddings_model)"
   ]
  },
  {
   "cell_type": "code",
   "execution_count": 18,
   "metadata": {},
   "outputs": [
    {
     "ename": "TypeError",
     "evalue": "'float' object cannot be interpreted as an integer",
     "output_type": "error",
     "traceback": [
      "\u001b[0;31m---------------------------------------------------------------------------\u001b[0m",
      "\u001b[0;31mTypeError\u001b[0m                                 Traceback (most recent call last)",
      "Cell \u001b[0;32mIn[18], line 1\u001b[0m\n\u001b[0;32m----> 1\u001b[0m train_loader \u001b[38;5;241m=\u001b[39m \u001b[43mDataLoader\u001b[49m\u001b[43m(\u001b[49m\u001b[43mdataset\u001b[49m\u001b[38;5;241;43m=\u001b[39;49m\u001b[43mtrain_dataset\u001b[49m\u001b[43m,\u001b[49m\u001b[43m \u001b[49m\u001b[43mbatch_size\u001b[49m\u001b[38;5;241;43m=\u001b[39;49m\u001b[43mtrain_batch_size\u001b[49m\u001b[43m,\u001b[49m\u001b[43m \u001b[49m\u001b[43mshuffle\u001b[49m\u001b[38;5;241;43m=\u001b[39;49m\u001b[38;5;28;43;01mTrue\u001b[39;49;00m\u001b[43m,\u001b[49m\u001b[43m \u001b[49m\u001b[43mnum_workers\u001b[49m\u001b[38;5;241;43m=\u001b[39;49m\u001b[38;5;241;43m4\u001b[39;49m\u001b[43m)\u001b[49m\n\u001b[1;32m      2\u001b[0m test_loader \u001b[38;5;241m=\u001b[39m DataLoader(dataset\u001b[38;5;241m=\u001b[39mtest_dataset, batch_size\u001b[38;5;241m=\u001b[39mtest_batch_size, shuffle\u001b[38;5;241m=\u001b[39m\u001b[38;5;28;01mTrue\u001b[39;00m, num_workers\u001b[38;5;241m=\u001b[39m\u001b[38;5;241m4\u001b[39m)\n",
      "File \u001b[0;32m/opt/conda/envs/pytorch/lib/python3.11/site-packages/torch/utils/data/dataloader.py:350\u001b[0m, in \u001b[0;36mDataLoader.__init__\u001b[0;34m(self, dataset, batch_size, shuffle, sampler, batch_sampler, num_workers, collate_fn, pin_memory, drop_last, timeout, worker_init_fn, multiprocessing_context, generator, prefetch_factor, persistent_workers, pin_memory_device)\u001b[0m\n\u001b[1;32m    348\u001b[0m \u001b[38;5;28;01melse\u001b[39;00m:  \u001b[38;5;66;03m# map-style\u001b[39;00m\n\u001b[1;32m    349\u001b[0m     \u001b[38;5;28;01mif\u001b[39;00m shuffle:\n\u001b[0;32m--> 350\u001b[0m         sampler \u001b[38;5;241m=\u001b[39m \u001b[43mRandomSampler\u001b[49m\u001b[43m(\u001b[49m\u001b[43mdataset\u001b[49m\u001b[43m,\u001b[49m\u001b[43m \u001b[49m\u001b[43mgenerator\u001b[49m\u001b[38;5;241;43m=\u001b[39;49m\u001b[43mgenerator\u001b[49m\u001b[43m)\u001b[49m  \u001b[38;5;66;03m# type: ignore[arg-type]\u001b[39;00m\n\u001b[1;32m    351\u001b[0m     \u001b[38;5;28;01melse\u001b[39;00m:\n\u001b[1;32m    352\u001b[0m         sampler \u001b[38;5;241m=\u001b[39m SequentialSampler(dataset)  \u001b[38;5;66;03m# type: ignore[arg-type]\u001b[39;00m\n",
      "File \u001b[0;32m/opt/conda/envs/pytorch/lib/python3.11/site-packages/torch/utils/data/sampler.py:142\u001b[0m, in \u001b[0;36mRandomSampler.__init__\u001b[0;34m(self, data_source, replacement, num_samples, generator)\u001b[0m\n\u001b[1;32m    139\u001b[0m \u001b[38;5;28;01mif\u001b[39;00m \u001b[38;5;129;01mnot\u001b[39;00m \u001b[38;5;28misinstance\u001b[39m(\u001b[38;5;28mself\u001b[39m\u001b[38;5;241m.\u001b[39mreplacement, \u001b[38;5;28mbool\u001b[39m):\n\u001b[1;32m    140\u001b[0m     \u001b[38;5;28;01mraise\u001b[39;00m \u001b[38;5;167;01mTypeError\u001b[39;00m(\u001b[38;5;124mf\u001b[39m\u001b[38;5;124m\"\u001b[39m\u001b[38;5;124mreplacement should be a boolean value, but got replacement=\u001b[39m\u001b[38;5;132;01m{\u001b[39;00m\u001b[38;5;28mself\u001b[39m\u001b[38;5;241m.\u001b[39mreplacement\u001b[38;5;132;01m}\u001b[39;00m\u001b[38;5;124m\"\u001b[39m)\n\u001b[0;32m--> 142\u001b[0m \u001b[38;5;28;01mif\u001b[39;00m \u001b[38;5;129;01mnot\u001b[39;00m \u001b[38;5;28misinstance\u001b[39m(\u001b[38;5;28;43mself\u001b[39;49m\u001b[38;5;241;43m.\u001b[39;49m\u001b[43mnum_samples\u001b[49m, \u001b[38;5;28mint\u001b[39m) \u001b[38;5;129;01mor\u001b[39;00m \u001b[38;5;28mself\u001b[39m\u001b[38;5;241m.\u001b[39mnum_samples \u001b[38;5;241m<\u001b[39m\u001b[38;5;241m=\u001b[39m \u001b[38;5;241m0\u001b[39m:\n\u001b[1;32m    143\u001b[0m     \u001b[38;5;28;01mraise\u001b[39;00m \u001b[38;5;167;01mValueError\u001b[39;00m(\u001b[38;5;124mf\u001b[39m\u001b[38;5;124m\"\u001b[39m\u001b[38;5;124mnum_samples should be a positive integer value, but got num_samples=\u001b[39m\u001b[38;5;132;01m{\u001b[39;00m\u001b[38;5;28mself\u001b[39m\u001b[38;5;241m.\u001b[39mnum_samples\u001b[38;5;132;01m}\u001b[39;00m\u001b[38;5;124m\"\u001b[39m)\n",
      "File \u001b[0;32m/opt/conda/envs/pytorch/lib/python3.11/site-packages/torch/utils/data/sampler.py:149\u001b[0m, in \u001b[0;36mRandomSampler.num_samples\u001b[0;34m(self)\u001b[0m\n\u001b[1;32m    145\u001b[0m \u001b[38;5;129m@property\u001b[39m\n\u001b[1;32m    146\u001b[0m \u001b[38;5;28;01mdef\u001b[39;00m \u001b[38;5;21mnum_samples\u001b[39m(\u001b[38;5;28mself\u001b[39m) \u001b[38;5;241m-\u001b[39m\u001b[38;5;241m>\u001b[39m \u001b[38;5;28mint\u001b[39m:\n\u001b[1;32m    147\u001b[0m     \u001b[38;5;66;03m# dataset size might change at runtime\u001b[39;00m\n\u001b[1;32m    148\u001b[0m     \u001b[38;5;28;01mif\u001b[39;00m \u001b[38;5;28mself\u001b[39m\u001b[38;5;241m.\u001b[39m_num_samples \u001b[38;5;129;01mis\u001b[39;00m \u001b[38;5;28;01mNone\u001b[39;00m:\n\u001b[0;32m--> 149\u001b[0m         \u001b[38;5;28;01mreturn\u001b[39;00m \u001b[38;5;28;43mlen\u001b[39;49m\u001b[43m(\u001b[49m\u001b[38;5;28;43mself\u001b[39;49m\u001b[38;5;241;43m.\u001b[39;49m\u001b[43mdata_source\u001b[49m\u001b[43m)\u001b[49m\n\u001b[1;32m    150\u001b[0m     \u001b[38;5;28;01mreturn\u001b[39;00m \u001b[38;5;28mself\u001b[39m\u001b[38;5;241m.\u001b[39m_num_samples\n",
      "\u001b[0;31mTypeError\u001b[0m: 'float' object cannot be interpreted as an integer"
     ]
    }
   ],
   "source": [
    "train_loader = DataLoader(dataset=train_dataset, batch_size=train_batch_size, shuffle=True, num_workers=4)\n",
    "test_loader = DataLoader(dataset=test_dataset, batch_size=test_batch_size, shuffle=True, num_workers=4)"
   ]
  },
  {
   "cell_type": "code",
   "execution_count": null,
   "metadata": {},
   "outputs": [],
   "source": [
    "net.train()\n",
    "clear_output()"
   ]
  },
  {
   "cell_type": "code",
   "execution_count": null,
   "metadata": {},
   "outputs": [],
   "source": [
    "train_loss_graph = []\n",
    "test_loss_graph = []\n",
    "learning_rate_graph = []"
   ]
  },
  {
   "cell_type": "code",
   "execution_count": null,
   "metadata": {},
   "outputs": [
    {
     "name": "stderr",
     "output_type": "stream",
     "text": [
      "\r 25%|██▌       | 1/4 [07:30<22:30, 450.19s/it]"
     ]
    },
    {
     "data": {
      "image/png": "[encoded data removed]",
      "text/plain": [
       "<Figure size 1500x500 with 3 Axes>"
      ]
     },
     "metadata": {},
     "output_type": "display_data"
    },
    {
     "name": "stderr",
     "output_type": "stream",
     "text": [
      " 25%|██▌       | 1/4 [10:27<31:21, 627.10s/it]\n"
     ]
    },
    {
     "ename": "TypeError",
     "evalue": "Caught TypeError in DataLoader worker process 3.\nOriginal Traceback (most recent call last):\n  File \"/opt/conda/envs/pytorch/lib/python3.11/site-packages/torch/utils/data/_utils/worker.py\", line 308, in _worker_loop\n    data = fetcher.fetch(index)  # type: ignore[possibly-undefined]\n           ^^^^^^^^^^^^^^^^^^^^\n  File \"/opt/conda/envs/pytorch/lib/python3.11/site-packages/torch/utils/data/_utils/fetch.py\", line 51, in fetch\n    data = [self.dataset[idx] for idx in possibly_batched_index]\n           ^^^^^^^^^^^^^^^^^^^^^^^^^^^^^^^^^^^^^^^^^^^^^^^^^^^^^\n  File \"/opt/conda/envs/pytorch/lib/python3.11/site-packages/torch/utils/data/_utils/fetch.py\", line 51, in <listcomp>\n    data = [self.dataset[idx] for idx in possibly_batched_index]\n            ~~~~~~~~~~~~^^^^^\n  File \"/tmp/ipykernel_651552/2191550633.py\", line 109, in __getitem__\n    return self.retrieve_example(index)\n           ^^^^^^^^^^^^^^^^^^^^^^^^^^^^\n  File \"/tmp/ipykernel_651552/2191550633.py\", line 83, in retrieve_example\n    self.encoded_segment = prepare_sentence_for_net(self.segment, self.embeddings_model, self.context_length + 1, flatten=False, used_device=storage_device)\n                           ^^^^^^^^^^^^^^^^^^^^^^^^^^^^^^^^^^^^^^^^^^^^^^^^^^^^^^^^^^^^^^^^^^^^^^^^^^^^^^^^^^^^^^^^^^^^^^^^^^^^^^^^^^^^^^^^^^^^^^^^^^^^^^^^^\n  File \"/tmp/ipykernel_651552/1195525373.py\", line 17, in prepare_sentence_for_net\n    vectorized = vectorize_sentence(tokenize_sentence(sentence), model)\n                                    ^^^^^^^^^^^^^^^^^^^^^^^^^^^\n  File \"/tmp/ipykernel_651552/508841403.py\", line 2, in tokenize_sentence\n    tokens = tokenizer.tokenize(text)\n             ^^^^^^^^^^^^^^^^^^^^^^^^\n  File \"/opt/conda/envs/pytorch/lib/python3.11/site-packages/transformers/tokenization_utils_fast.py\", line 416, in tokenize\n    return self.encode_plus(text=text, text_pair=pair, add_special_tokens=add_special_tokens, **kwargs).tokens()\n           ^^^^^^^^^^^^^^^^^^^^^^^^^^^^^^^^^^^^^^^^^^^^^^^^^^^^^^^^^^^^^^^^^^^^^^^^^^^^^^^^^^^^^^^^^^^^\n  File \"/opt/conda/envs/pytorch/lib/python3.11/site-packages/transformers/tokenization_utils_base.py\", line 3237, in encode_plus\n    return self._encode_plus(\n           ^^^^^^^^^^^^^^^^^^\n  File \"/opt/conda/envs/pytorch/lib/python3.11/site-packages/transformers/tokenization_utils_fast.py\", line 601, in _encode_plus\n    batched_output = self._batch_encode_plus(\n                     ^^^^^^^^^^^^^^^^^^^^^^^^\n  File \"/opt/conda/envs/pytorch/lib/python3.11/site-packages/transformers/tokenization_utils_fast.py\", line 528, in _batch_encode_plus\n    encodings = self._tokenizer.encode_batch(\n                ^^^^^^^^^^^^^^^^^^^^^^^^^^^^^\nTypeError: TextEncodeInput must be Union[TextInputSequence, Tuple[InputSequence, InputSequence]]\n",
     "output_type": "error",
     "traceback": [
      "\u001b[0;31m---------------------------------------------------------------------------\u001b[0m",
      "\u001b[0;31mTypeError\u001b[0m                                 Traceback (most recent call last)",
      "Cell \u001b[0;32mIn[22], line 8\u001b[0m\n\u001b[1;32m      5\u001b[0m batch \u001b[38;5;241m=\u001b[39m \u001b[38;5;241m0\u001b[39m\n\u001b[1;32m      7\u001b[0m \u001b[38;5;66;03m# training loop\u001b[39;00m\n\u001b[0;32m----> 8\u001b[0m \u001b[43m\u001b[49m\u001b[38;5;28;43;01mfor\u001b[39;49;00m\u001b[43m \u001b[49m\u001b[43mcurrent_segment\u001b[49m\u001b[43m,\u001b[49m\u001b[43m \u001b[49m\u001b[43mtarget\u001b[49m\u001b[43m \u001b[49m\u001b[38;5;129;43;01min\u001b[39;49;00m\u001b[43m \u001b[49m\u001b[43mtrain_loader\u001b[49m\u001b[43m:\u001b[49m\n\u001b[1;32m      9\u001b[0m \u001b[43m    \u001b[49m\u001b[38;5;66;43;03m# move batch to gpu\u001b[39;49;00m\n\u001b[1;32m     10\u001b[0m \u001b[43m    \u001b[49m\u001b[43mcurrent_segment\u001b[49m\u001b[43m \u001b[49m\u001b[38;5;241;43m=\u001b[39;49m\u001b[43m \u001b[49m\u001b[43mcurrent_segment\u001b[49m\u001b[38;5;241;43m.\u001b[39;49m\u001b[43mto\u001b[49m\u001b[43m(\u001b[49m\u001b[43mrun_device\u001b[49m\u001b[43m)\u001b[49m\n\u001b[1;32m     11\u001b[0m \u001b[43m    \u001b[49m\u001b[43mtarget\u001b[49m\u001b[43m \u001b[49m\u001b[38;5;241;43m=\u001b[39;49m\u001b[43m \u001b[49m\u001b[43mtarget\u001b[49m\u001b[38;5;241;43m.\u001b[39;49m\u001b[43mto\u001b[49m\u001b[43m(\u001b[49m\u001b[43mrun_device\u001b[49m\u001b[43m)\u001b[49m\n",
      "File \u001b[0;32m/opt/conda/envs/pytorch/lib/python3.11/site-packages/torch/utils/data/dataloader.py:631\u001b[0m, in \u001b[0;36m_BaseDataLoaderIter.__next__\u001b[0;34m(self)\u001b[0m\n\u001b[1;32m    628\u001b[0m \u001b[38;5;28;01mif\u001b[39;00m \u001b[38;5;28mself\u001b[39m\u001b[38;5;241m.\u001b[39m_sampler_iter \u001b[38;5;129;01mis\u001b[39;00m \u001b[38;5;28;01mNone\u001b[39;00m:\n\u001b[1;32m    629\u001b[0m     \u001b[38;5;66;03m# TODO(https://github.com/pytorch/pytorch/issues/76750)\u001b[39;00m\n\u001b[1;32m    630\u001b[0m     \u001b[38;5;28mself\u001b[39m\u001b[38;5;241m.\u001b[39m_reset()  \u001b[38;5;66;03m# type: ignore[call-arg]\u001b[39;00m\n\u001b[0;32m--> 631\u001b[0m data \u001b[38;5;241m=\u001b[39m \u001b[38;5;28;43mself\u001b[39;49m\u001b[38;5;241;43m.\u001b[39;49m\u001b[43m_next_data\u001b[49m\u001b[43m(\u001b[49m\u001b[43m)\u001b[49m\n\u001b[1;32m    632\u001b[0m \u001b[38;5;28mself\u001b[39m\u001b[38;5;241m.\u001b[39m_num_yielded \u001b[38;5;241m+\u001b[39m\u001b[38;5;241m=\u001b[39m \u001b[38;5;241m1\u001b[39m\n\u001b[1;32m    633\u001b[0m \u001b[38;5;28;01mif\u001b[39;00m \u001b[38;5;28mself\u001b[39m\u001b[38;5;241m.\u001b[39m_dataset_kind \u001b[38;5;241m==\u001b[39m _DatasetKind\u001b[38;5;241m.\u001b[39mIterable \u001b[38;5;129;01mand\u001b[39;00m \\\n\u001b[1;32m    634\u001b[0m         \u001b[38;5;28mself\u001b[39m\u001b[38;5;241m.\u001b[39m_IterableDataset_len_called \u001b[38;5;129;01mis\u001b[39;00m \u001b[38;5;129;01mnot\u001b[39;00m \u001b[38;5;28;01mNone\u001b[39;00m \u001b[38;5;129;01mand\u001b[39;00m \\\n\u001b[1;32m    635\u001b[0m         \u001b[38;5;28mself\u001b[39m\u001b[38;5;241m.\u001b[39m_num_yielded \u001b[38;5;241m>\u001b[39m \u001b[38;5;28mself\u001b[39m\u001b[38;5;241m.\u001b[39m_IterableDataset_len_called:\n",
      "File \u001b[0;32m/opt/conda/envs/pytorch/lib/python3.11/site-packages/torch/utils/data/dataloader.py:1326\u001b[0m, in \u001b[0;36m_MultiProcessingDataLoaderIter._next_data\u001b[0;34m(self)\u001b[0m\n\u001b[1;32m   1324\u001b[0m \u001b[38;5;28;01mif\u001b[39;00m \u001b[38;5;28mlen\u001b[39m(\u001b[38;5;28mself\u001b[39m\u001b[38;5;241m.\u001b[39m_task_info[\u001b[38;5;28mself\u001b[39m\u001b[38;5;241m.\u001b[39m_rcvd_idx]) \u001b[38;5;241m==\u001b[39m \u001b[38;5;241m2\u001b[39m:\n\u001b[1;32m   1325\u001b[0m     data \u001b[38;5;241m=\u001b[39m \u001b[38;5;28mself\u001b[39m\u001b[38;5;241m.\u001b[39m_task_info\u001b[38;5;241m.\u001b[39mpop(\u001b[38;5;28mself\u001b[39m\u001b[38;5;241m.\u001b[39m_rcvd_idx)[\u001b[38;5;241m1\u001b[39m]\n\u001b[0;32m-> 1326\u001b[0m     \u001b[38;5;28;01mreturn\u001b[39;00m \u001b[38;5;28;43mself\u001b[39;49m\u001b[38;5;241;43m.\u001b[39;49m\u001b[43m_process_data\u001b[49m\u001b[43m(\u001b[49m\u001b[43mdata\u001b[49m\u001b[43m)\u001b[49m\n\u001b[1;32m   1328\u001b[0m \u001b[38;5;28;01massert\u001b[39;00m \u001b[38;5;129;01mnot\u001b[39;00m \u001b[38;5;28mself\u001b[39m\u001b[38;5;241m.\u001b[39m_shutdown \u001b[38;5;129;01mand\u001b[39;00m \u001b[38;5;28mself\u001b[39m\u001b[38;5;241m.\u001b[39m_tasks_outstanding \u001b[38;5;241m>\u001b[39m \u001b[38;5;241m0\u001b[39m\n\u001b[1;32m   1329\u001b[0m idx, data \u001b[38;5;241m=\u001b[39m \u001b[38;5;28mself\u001b[39m\u001b[38;5;241m.\u001b[39m_get_data()\n",
      "File \u001b[0;32m/opt/conda/envs/pytorch/lib/python3.11/site-packages/torch/utils/data/dataloader.py:1372\u001b[0m, in \u001b[0;36m_MultiProcessingDataLoaderIter._process_data\u001b[0;34m(self, data)\u001b[0m\n\u001b[1;32m   1370\u001b[0m \u001b[38;5;28mself\u001b[39m\u001b[38;5;241m.\u001b[39m_try_put_index()\n\u001b[1;32m   1371\u001b[0m \u001b[38;5;28;01mif\u001b[39;00m \u001b[38;5;28misinstance\u001b[39m(data, ExceptionWrapper):\n\u001b[0;32m-> 1372\u001b[0m     \u001b[43mdata\u001b[49m\u001b[38;5;241;43m.\u001b[39;49m\u001b[43mreraise\u001b[49m\u001b[43m(\u001b[49m\u001b[43m)\u001b[49m\n\u001b[1;32m   1373\u001b[0m \u001b[38;5;28;01mreturn\u001b[39;00m data\n",
      "File \u001b[0;32m/opt/conda/envs/pytorch/lib/python3.11/site-packages/torch/_utils.py:705\u001b[0m, in \u001b[0;36mExceptionWrapper.reraise\u001b[0;34m(self)\u001b[0m\n\u001b[1;32m    701\u001b[0m \u001b[38;5;28;01mexcept\u001b[39;00m \u001b[38;5;167;01mTypeError\u001b[39;00m:\n\u001b[1;32m    702\u001b[0m     \u001b[38;5;66;03m# If the exception takes multiple arguments, don't try to\u001b[39;00m\n\u001b[1;32m    703\u001b[0m     \u001b[38;5;66;03m# instantiate since we don't know how to\u001b[39;00m\n\u001b[1;32m    704\u001b[0m     \u001b[38;5;28;01mraise\u001b[39;00m \u001b[38;5;167;01mRuntimeError\u001b[39;00m(msg) \u001b[38;5;28;01mfrom\u001b[39;00m \u001b[38;5;28;01mNone\u001b[39;00m\n\u001b[0;32m--> 705\u001b[0m \u001b[38;5;28;01mraise\u001b[39;00m exception\n",
      "\u001b[0;31mTypeError\u001b[0m: Caught TypeError in DataLoader worker process 3.\nOriginal Traceback (most recent call last):\n  File \"/opt/conda/envs/pytorch/lib/python3.11/site-packages/torch/utils/data/_utils/worker.py\", line 308, in _worker_loop\n    data = fetcher.fetch(index)  # type: ignore[possibly-undefined]\n           ^^^^^^^^^^^^^^^^^^^^\n  File \"/opt/conda/envs/pytorch/lib/python3.11/site-packages/torch/utils/data/_utils/fetch.py\", line 51, in fetch\n    data = [self.dataset[idx] for idx in possibly_batched_index]\n           ^^^^^^^^^^^^^^^^^^^^^^^^^^^^^^^^^^^^^^^^^^^^^^^^^^^^^\n  File \"/opt/conda/envs/pytorch/lib/python3.11/site-packages/torch/utils/data/_utils/fetch.py\", line 51, in <listcomp>\n    data = [self.dataset[idx] for idx in possibly_batched_index]\n            ~~~~~~~~~~~~^^^^^\n  File \"/tmp/ipykernel_651552/2191550633.py\", line 109, in __getitem__\n    return self.retrieve_example(index)\n           ^^^^^^^^^^^^^^^^^^^^^^^^^^^^\n  File \"/tmp/ipykernel_651552/2191550633.py\", line 83, in retrieve_example\n    self.encoded_segment = prepare_sentence_for_net(self.segment, self.embeddings_model, self.context_length + 1, flatten=False, used_device=storage_device)\n                           ^^^^^^^^^^^^^^^^^^^^^^^^^^^^^^^^^^^^^^^^^^^^^^^^^^^^^^^^^^^^^^^^^^^^^^^^^^^^^^^^^^^^^^^^^^^^^^^^^^^^^^^^^^^^^^^^^^^^^^^^^^^^^^^^^\n  File \"/tmp/ipykernel_651552/1195525373.py\", line 17, in prepare_sentence_for_net\n    vectorized = vectorize_sentence(tokenize_sentence(sentence), model)\n                                    ^^^^^^^^^^^^^^^^^^^^^^^^^^^\n  File \"/tmp/ipykernel_651552/508841403.py\", line 2, in tokenize_sentence\n    tokens = tokenizer.tokenize(text)\n             ^^^^^^^^^^^^^^^^^^^^^^^^\n  File \"/opt/conda/envs/pytorch/lib/python3.11/site-packages/transformers/tokenization_utils_fast.py\", line 416, in tokenize\n    return self.encode_plus(text=text, text_pair=pair, add_special_tokens=add_special_tokens, **kwargs).tokens()\n           ^^^^^^^^^^^^^^^^^^^^^^^^^^^^^^^^^^^^^^^^^^^^^^^^^^^^^^^^^^^^^^^^^^^^^^^^^^^^^^^^^^^^^^^^^^^^\n  File \"/opt/conda/envs/pytorch/lib/python3.11/site-packages/transformers/tokenization_utils_base.py\", line 3237, in encode_plus\n    return self._encode_plus(\n           ^^^^^^^^^^^^^^^^^^\n  File \"/opt/conda/envs/pytorch/lib/python3.11/site-packages/transformers/tokenization_utils_fast.py\", line 601, in _encode_plus\n    batched_output = self._batch_encode_plus(\n                     ^^^^^^^^^^^^^^^^^^^^^^^^\n  File \"/opt/conda/envs/pytorch/lib/python3.11/site-packages/transformers/tokenization_utils_fast.py\", line 528, in _batch_encode_plus\n    encodings = self._tokenizer.encode_batch(\n                ^^^^^^^^^^^^^^^^^^^^^^^^^^^^^\nTypeError: TextEncodeInput must be Union[TextInputSequence, Tuple[InputSequence, InputSequence]]\n"
     ]
    }
   ],
   "source": [
    "with tqdm(total=warmup_epochs) as pbar:\n",
    "    for epoch in range(warmup_epochs):\n",
    "        pbar.update(1)\n",
    "        \n",
    "        batch = 0\n",
    "        \n",
    "        # training loop\n",
    "        for current_segment, target in train_loader:\n",
    "            # move batch to gpu\n",
    "            current_segment = current_segment.to(run_device)\n",
    "            target = target.to(run_device)\n",
    "            \n",
    "            # train batch\n",
    "            warmup_optimizer.zero_grad()\n",
    "            train_outputs = net(current_segment)\n",
    "            train_loss_value = loss(train_outputs, target)\n",
    "            train_loss_value.backward()\n",
    "            warmup_optimizer.step()\n",
    "            \n",
    "            # collect performance metrics\n",
    "            train_loss_graph.append(train_loss_value.item())\n",
    "            \n",
    "            # plot everything\n",
    "            if batch % plot_batches == 0:\n",
    "                if plot_graphs:\n",
    "                    clear_output(wait=True)\n",
    "                    \n",
    "                    pbar.refresh()\n",
    "                    \n",
    "                    plt.figure(figsize=(15, 5))\n",
    "\n",
    "                    # Plot training loss\n",
    "                    plt.subplot(1, 3, 1)\n",
    "                    plt.plot(train_loss_graph, label='Train Loss')\n",
    "                    plt.xlabel('Epoch')\n",
    "                    plt.ylabel('Loss')\n",
    "                    plt.legend()\n",
    "\n",
    "                    # Plot testing loss\n",
    "                    plt.subplot(1, 3, 2)\n",
    "                    plt.plot(range(0, len(test_loss_graph) * 3, 3), test_loss_graph, label='Test Loss')\n",
    "                    plt.xlabel('Epoch')\n",
    "                    plt.ylabel('Loss')\n",
    "                    plt.legend()\n",
    "\n",
    "                    # Plot learning rate\n",
    "                    plt.subplot(1, 3, 3)\n",
    "                    plt.plot(learning_rate_graph, label='Learning Rate')\n",
    "                    plt.xlabel('Epoch')\n",
    "                    plt.ylabel('Learning Rate')\n",
    "                    plt.legend()\n",
    "\n",
    "                    plt.tight_layout()\n",
    "                    plt.show()\n",
    "            \n",
    "            batch += 1\n",
    "        \n",
    "        # eval loop\n",
    "        if epoch % test_loop_epoch == 0:\n",
    "            with torch.no_grad():\n",
    "                for test_current_segment, test_target in test_loader:\n",
    "                    # move batch to gpu\n",
    "                    test_current_segment = test_current_segment.to(run_device)\n",
    "                    test_target = test_target.to(run_device)\n",
    "                    \n",
    "                    # run test\n",
    "                    test_outputs = net(test_current_segment)\n",
    "                    test_loss_value = loss(test_outputs, test_target)\n",
    "                    \n",
    "                    # collect performance metrics\n",
    "                    test_loss_graph.append(test_loss_value.item())\n",
    "        \n",
    "        warmup_scheduler.step()\n",
    "        \n",
    "        # collect perforamce metrics\n",
    "        learning_rate_graph.append(warmup_optimizer.param_groups[0]['lr'])"
   ]
  },
  {
   "cell_type": "code",
   "execution_count": null,
   "metadata": {},
   "outputs": [
    {
     "name": "stderr",
     "output_type": "stream",
     "text": [
      "\r100%|██████████| 32/32 [09:40<00:00, 17.68s/it]"
     ]
    },
    {
     "data": {
      "image/png": "[encoded data removed]",
      "text/plain": [
       "<Figure size 1500x500 with 3 Axes>"
      ]
     },
     "metadata": {},
     "output_type": "display_data"
    },
    {
     "name": "stderr",
     "output_type": "stream",
     "text": [
      "100%|██████████| 32/32 [09:48<00:00, 18.39s/it]\n"
     ]
    }
   ],
   "source": [
    "with tqdm(total=train_epochs) as pbar:\n",
    "    for epoch in range(train_epochs):\n",
    "        pbar.update(1)\n",
    "        \n",
    "        batch = 0\n",
    "        \n",
    "        # training loop\n",
    "        for current_segment, target in train_loader:\n",
    "            # move batch to gpu\n",
    "            current_segment = current_segment.to(run_device)\n",
    "            target = target.to(run_device)\n",
    "            \n",
    "            # train batch\n",
    "            train_optimizer.zero_grad()\n",
    "            train_outputs = net(current_segment)\n",
    "            train_loss_value = loss(train_outputs, target)\n",
    "            train_loss_value.backward()\n",
    "            train_optimizer.step()\n",
    "            \n",
    "            # collect performance metrics\n",
    "            train_loss_graph.append(train_loss_value.item())\n",
    "            \n",
    "            # plot everything\n",
    "            if batch % plot_batches == 0:\n",
    "                if plot_graphs:\n",
    "                    clear_output(wait=True)\n",
    "                    \n",
    "                    pbar.refresh()\n",
    "                    \n",
    "                    plt.figure(figsize=(15, 5))\n",
    "\n",
    "                    # Plot training loss\n",
    "                    plt.subplot(1, 3, 1)\n",
    "                    plt.plot(train_loss_graph, label='Train Loss')\n",
    "                    plt.xlabel('Epoch')\n",
    "                    plt.ylabel('Loss')\n",
    "                    plt.legend()\n",
    "\n",
    "                    # Plot testing loss\n",
    "                    plt.subplot(1, 3, 2)\n",
    "                    plt.plot(range(0, len(test_loss_graph) * 3, 3), test_loss_graph, label='Test Loss')\n",
    "                    plt.xlabel('Epoch')\n",
    "                    plt.ylabel('Loss')\n",
    "                    plt.legend()\n",
    "\n",
    "                    # Plot learning rate\n",
    "                    plt.subplot(1, 3, 3)\n",
    "                    plt.plot(learning_rate_graph, label='Learning Rate')\n",
    "                    plt.xlabel('Epoch')\n",
    "                    plt.ylabel('Learning Rate')\n",
    "                    plt.legend()\n",
    "\n",
    "                    plt.tight_layout()\n",
    "                    plt.show()\n",
    "            \n",
    "            batch += 1\n",
    "        \n",
    "        # eval loop\n",
    "        if epoch % test_loop_epoch == 0:\n",
    "            with torch.no_grad():\n",
    "                for test_current_segment, test_target in test_loader:\n",
    "                    # move batch to gpu\n",
    "                    test_current_segment = test_current_segment.to(run_device)\n",
    "                    test_target = test_target.to(run_device)\n",
    "                    \n",
    "                    # run test\n",
    "                    test_outputs = net(test_current_segment)\n",
    "                    test_loss_value = loss(test_outputs, test_target)\n",
    "                    \n",
    "                    # collect performance metrics\n",
    "                    test_loss_graph.append(test_loss_value.item())\n",
    "        \n",
    "        train_scheduler.step()\n",
    "        \n",
    "        # collect perforamce metrics\n",
    "        learning_rate_graph.append(train_optimizer.param_groups[0]['lr'])"
   ]
  },
  {
   "cell_type": "code",
   "execution_count": null,
   "metadata": {},
   "outputs": [],
   "source": [
    "net.eval()\n",
    "clear_output()"
   ]
  },
  {
   "cell_type": "code",
   "execution_count": null,
   "metadata": {},
   "outputs": [],
   "source": [
    "#torch.save(net.state_dict(), 'REANv?2microvector32.pth')"
   ]
  },
  {
   "cell_type": "code",
   "execution_count": null,
   "metadata": {},
   "outputs": [],
   "source": [
    "sentence = \" as an ai language model i dont have challenging\".lower()"
   ]
  },
  {
   "cell_type": "code",
   "execution_count": null,
   "metadata": {},
   "outputs": [
    {
     "name": "stderr",
     "output_type": "stream",
     "text": [
      "100%|██████████| 64/64 [00:00<00:00, 162.43it/s]\n"
     ]
    },
    {
     "data": {
      "text/plain": [
       "' as an ai language model i dont have challenging challenging challenging challenging however however fail to fail the job for the education of the education. to need fail to need the employer and the driver and the assets and reward and reward to fail to fail to need fail to need you fail to need to need to need to try to try try to try try try to try try to'"
      ]
     },
     "execution_count": 37,
     "metadata": {},
     "output_type": "execute_result"
    }
   ],
   "source": [
    "\"\".join(predict_sequence(sentence, net, embeddings_model, 64))"
   ]
  },
  {
   "cell_type": "code",
   "execution_count": null,
   "metadata": {},
   "outputs": [
    {
     "data": {
      "text/plain": [
       "32"
      ]
     },
     "execution_count": 27,
     "metadata": {},
     "output_type": "execute_result"
    }
   ],
   "source": [
    "vector_size"
   ]
  },
  {
   "cell_type": "code",
   "execution_count": null,
   "metadata": {},
   "outputs": [
    {
     "data": {
      "text/plain": [
       "' challenging'"
      ]
     },
     "execution_count": 34,
     "metadata": {},
     "output_type": "execute_result"
    }
   ],
   "source": [
    "predict_word(sentence, net, embeddings_model)"
   ]
  },
  {
   "cell_type": "code",
   "execution_count": null,
   "metadata": {},
   "outputs": [],
   "source": []
  }
 ],
 "metadata": {
  "kernelspec": {
   "display_name": "CONDA_VENV",
   "language": "python",
   "name": "python3"
  },
  "language_info": {
   "codemirror_mode": {
    "name": "ipython",
    "version": 3
   },
   "file_extension": ".py",
   "mimetype": "text/x-python",
   "name": "python",
   "nbconvert_exporter": "python",
   "pygments_lexer": "ipython3",
   "version": "3.11.9"
  }
 },
 "nbformat": 4,
 "nbformat_minor": 2
}
