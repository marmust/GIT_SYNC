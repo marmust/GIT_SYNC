{
 "cells": [
  {
   "cell_type": "code",
   "execution_count": 1,
   "metadata": {},
   "outputs": [],
   "source": [
    "freaky_dataset_path = fr\"datasets\\test_dset.txt\"\n",
    "clean_dataset_path = fr\"datasets\\clean_test_dset.txt\"\n",
    "\n",
    "allowed_chars = \"abcdefghijklmnopqrstuvwxyz \"\n",
    "\n",
    "replace_chars = {\"\\n\", \" \"}"
   ]
  },
  {
   "cell_type": "code",
   "execution_count": 2,
   "metadata": {},
   "outputs": [],
   "source": [
    "def remove_unwanted(text, allowed_chars=allowed_chars):\n",
    "    return \"\".join([char for char in text if char in allowed_chars])"
   ]
  },
  {
   "cell_type": "code",
   "execution_count": 3,
   "metadata": {},
   "outputs": [],
   "source": [
    "with open(freaky_dataset_path, 'r', encoding='utf-8', errors='ignore') as freaky_file:\n",
    "    with open(clean_dataset_path, 'w', encoding='utf-8', errors='ignore') as clean_file:\n",
    "        freaky_text = freaky_file.read()\n",
    "        \n",
    "        clean_text = freaky_text.lower()\n",
    "        clean_text = clean_text.replace(\"\\n\", \" \")\n",
    "        clean_text = remove_unwanted(clean_text)\n",
    "        \n",
    "        clean_file.write(clean_text)"
   ]
  },
  {
   "cell_type": "code",
   "execution_count": null,
   "metadata": {},
   "outputs": [],
   "source": []
  }
 ],
 "metadata": {
  "kernelspec": {
   "display_name": "CONDA_VENV",
   "language": "python",
   "name": "python3"
  },
  "language_info": {
   "codemirror_mode": {
    "name": "ipython",
    "version": 3
   },
   "file_extension": ".py",
   "mimetype": "text/x-python",
   "name": "python",
   "nbconvert_exporter": "python",
   "pygments_lexer": "ipython3",
   "version": "3.12.3"
  }
 },
 "nbformat": 4,
 "nbformat_minor": 2
}
