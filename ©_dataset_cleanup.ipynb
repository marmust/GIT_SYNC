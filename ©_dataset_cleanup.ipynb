{
 "cells": [
  {
   "cell_type": "code",
   "execution_count": 1,
   "metadata": {},
   "outputs": [],
   "source": [
    "freaky_dataset_path = fr\"./datasets/ultra_chat.txt\"\n",
    "clean_dataset_path = fr\"./datasets/ultra_chat_clean.txt\"\n",
    "\n",
    "allowed_chars = \"abcdefghijklmnopqrstuvwxyz \"\n",
    "skibidi_chars = \"'\"\n",
    "\n",
    "chunk_size = 1024 * 1024# * 1024\n",
    "\n",
    "replace_sequences = {r\"\\n\\n\": \" \",\n",
    "                     r\"\\n\": \" \",\n",
    "                     '\"id\"': \" \",\n",
    "                     '\"data\"': \" \",}"
   ]
  },
  {
   "cell_type": "code",
   "execution_count": 2,
   "metadata": {},
   "outputs": [],
   "source": [
    "def remove_unwanted_chars(text, allowed_chars=allowed_chars):\n",
    "    copy = \"\"\n",
    "    \n",
    "    for char in text:\n",
    "        if char in allowed_chars:\n",
    "            copy += char\n",
    "            continue\n",
    "        \n",
    "        if char in skibidi_chars:\n",
    "            copy += \"\"\n",
    "            continue\n",
    "        \n",
    "        copy += \" \"\n",
    "    \n",
    "    return copy"
   ]
  },
  {
   "cell_type": "code",
   "execution_count": 3,
   "metadata": {},
   "outputs": [],
   "source": [
    "def remove_unwanted_sequences(text, replace_sequences=replace_sequences):\n",
    "    for current_replace in replace_sequences.keys():\n",
    "        text = text.replace(current_replace, replace_sequences[current_replace])\n",
    "    \n",
    "    return text"
   ]
  },
  {
   "cell_type": "code",
   "execution_count": 4,
   "metadata": {},
   "outputs": [],
   "source": [
    "with open(freaky_dataset_path, 'r', encoding='utf-8', errors='ignore') as freaky_file:\n",
    "    with open(clean_dataset_path, 'w', encoding='utf-8', errors='ignore') as clean_file:\n",
    "        while True:\n",
    "            # Read chunk\n",
    "            chunk = freaky_file.read(chunk_size)\n",
    "            \n",
    "            if not chunk:\n",
    "                break\n",
    "            \n",
    "            # Process chunk\n",
    "            clean_text = chunk.lower()\n",
    "            clean_text = remove_unwanted_sequences(clean_text)\n",
    "            clean_text = remove_unwanted_chars(clean_text)\n",
    "            \n",
    "            while \"  \" in clean_text:\n",
    "                clean_text = clean_text.replace(\"  \", \" \")\n",
    "            \n",
    "            # Write cleaned chunk\n",
    "            clean_file.write(clean_text)"
   ]
  },
  {
   "cell_type": "code",
   "execution_count": null,
   "metadata": {},
   "outputs": [],
   "source": []
  }
 ],
 "metadata": {
  "kernelspec": {
   "display_name": "CONDA_VENV",
   "language": "python",
   "name": "python3"
  },
  "language_info": {
   "codemirror_mode": {
    "name": "ipython",
    "version": 3
   },
   "file_extension": ".py",
   "mimetype": "text/x-python",
   "name": "python",
   "nbconvert_exporter": "python",
   "pygments_lexer": "ipython3",
   "version": "3.11.9"
  }
 },
 "nbformat": 4,
 "nbformat_minor": 2
}
