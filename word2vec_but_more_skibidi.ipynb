{
 "cells": [
  {
   "cell_type": "code",
   "execution_count": 1,
   "metadata": {},
   "outputs": [],
   "source": [
    "from gensim.models import Word2Vec\n",
    "from gensim.utils import simple_preprocess\n",
    "from tqdm import tqdm"
   ]
  },
  {
   "cell_type": "code",
   "execution_count": 2,
   "metadata": {},
   "outputs": [],
   "source": [
    "# dataset settings\n",
    "dataset_path = fr\"./datasets/combined_train.txt\"\n",
    "\n",
    "chunk_size = 1024 * 8 * 8\n",
    "corpus_size = 8\n",
    "\n",
    "# model hyperparams\n",
    "vector_size = 32        # Dimensionality of the word vectors\n",
    "window = 3              # Maximum distance between the current and predicted word within a sentence\n",
    "min_count = 5           # Ignores all words with total frequency lower than this\n",
    "workers = 1             # Number of worker threads to train the model\n",
    "sg = 0                  # Training algorithm: 1 for skip-gram; 0 for CBOW\n",
    "hs = 0                  # If 1, hierarchical softmax will be used for model training. If 0, and negative is non-zero, negative sampling will be used.\n",
    "negative = 32           # If > 0, negative sampling will be used. The int for negative specifies how many \"noise words\" should be drawn\n",
    "epochs = 6             # Number of iterations (epochs) over the corpus\n",
    "alpha = 0.025           # The initial learning rate\n",
    "min_alpha = 0.0001      # The minimum learning rate"
   ]
  },
  {
   "cell_type": "code",
   "execution_count": 3,
   "metadata": {},
   "outputs": [],
   "source": [
    "# model init\n",
    "model = Word2Vec(\n",
    "    vector_size=vector_size,\n",
    "    window=window,\n",
    "    min_count=min_count,\n",
    "    workers=workers,\n",
    "    sg=sg,\n",
    "    hs=hs,\n",
    "    negative=negative,\n",
    "    alpha=alpha,\n",
    "    min_alpha=min_alpha\n",
    ")"
   ]
  },
  {
   "cell_type": "code",
   "execution_count": 4,
   "metadata": {},
   "outputs": [],
   "source": [
    "class training_corpus:\n",
    "    def __init__(self):\n",
    "        self.corpus = []\n",
    "        self.size = 0\n",
    "        self.corpus_to_size = False\n",
    "        self.all_chunks_to_size = True\n",
    "    \n",
    "    def add_chunk(self, chunk):\n",
    "        self.corpus.append(chunk)\n",
    "        \n",
    "        self.size += 1\n",
    "        self.corpus_to_size = self.size == corpus_size\n",
    "        self.all_chunks_to_size = self.all_chunks_to_size and \"\".join(chunk) == chunk_size\n",
    "    \n",
    "    def corpus_ok(self):\n",
    "        return self.corpus_to_size and self.all_chunks_to_size\n",
    "    \n",
    "    def __iter__(self):\n",
    "        for chunk in self.corpus:\n",
    "            yield chunk\n",
    "    \n",
    "    def __getitem__(self, idx):\n",
    "        return self.corpus[idx]"
   ]
  },
  {
   "cell_type": "code",
   "execution_count": 5,
   "metadata": {},
   "outputs": [],
   "source": [
    "def read_chunk(read_start: int, chunk_size: int=chunk_size, path: str=dataset_path) -> tuple[str, bool]:\n",
    "    \"\"\"\n",
    "    Reads a certain number of characters from a file starting at the specified position.\n",
    "    \n",
    "    Args:\n",
    "        read_start (int): The position in the file to start reading from.\n",
    "        chunk_size (int, optional): The number of characters to read. Defaults to `chunk_size`.\n",
    "        path (str, optional): The path to the dataset text file. Defaults to `dataset_path`.\n",
    "    \n",
    "    Returns:\n",
    "        tuple[str, bool]: A tuple containing the loaded chunk and a boolean indicating if EOF is hit.\n",
    "    \"\"\"\n",
    "    \n",
    "    with open(path, 'r', encoding='utf-8', errors='ignore') as file:\n",
    "        file.seek(read_start)\n",
    "        chunk = file.read(chunk_size)\n",
    "        \n",
    "        # eof hit check\n",
    "        if not chunk:\n",
    "            return \"\", True\n",
    "        \n",
    "        return chunk, False"
   ]
  },
  {
   "cell_type": "code",
   "execution_count": 6,
   "metadata": {},
   "outputs": [],
   "source": [
    "def build_corpus(read_start: int, corpus_size: int=corpus_size, chunk_size: int=chunk_size, path: str=dataset_path) -> tuple[training_corpus, bool]:\n",
    "    corpus = training_corpus()\n",
    "    \n",
    "    for _ in range(corpus_size):\n",
    "        chunk, eof = read_chunk(read_start, chunk_size, path)\n",
    "        \n",
    "        # check eof\n",
    "        if eof:\n",
    "            return corpus, True\n",
    "        \n",
    "        corpus.add_chunk(chunk.split(\" \")[1:-1])\n",
    "        \n",
    "        read_start += chunk_size\n",
    "        \n",
    "    return corpus, False"
   ]
  },
  {
   "cell_type": "code",
   "execution_count": 7,
   "metadata": {},
   "outputs": [],
   "source": [
    "def train_corpus(model: Word2Vec, corpus: training_corpus, first=False):\n",
    "    \"\"\"\n",
    "    Train a Word2Vec model on a given corpus chunk.\n",
    "\n",
    "    Args:\n",
    "        model (Word2Vec): The Word2Vec model to train.\n",
    "        corpus (list): A list of tokenized sentences to train on.\n",
    "        first (bool): If True, build the vocabulary from the corpus. Use this only for the first chunk.\n",
    "\n",
    "    Returns:\n",
    "        None\n",
    "    \"\"\"\n",
    "    \n",
    "    if first:\n",
    "        model.build_vocab(corpus.corpus)\n",
    "        total_examples = model.corpus_count\n",
    "    else:\n",
    "        # Update the vocabulary with new words from the corpus\n",
    "        model.build_vocab(corpus.corpus, update=True)\n",
    "        total_examples = model.corpus_count\n",
    "    \n",
    "    model.train(corpus.corpus, total_examples=total_examples, epochs=model.epochs)"
   ]
  },
  {
   "cell_type": "code",
   "execution_count": 8,
   "metadata": {},
   "outputs": [],
   "source": [
    "def full_train(model, dataset_path, train_corpuses):\n",
    "    read_start = 0\n",
    "    corpus = training_corpus()\n",
    "    \n",
    "    # first train\n",
    "    corpus, eof = build_corpus(read_start, corpus_size, chunk_size, dataset_path)\n",
    "    train_corpus(model, corpus, first=True)\n",
    "    \n",
    "    for _ in tqdm(range(train_corpuses)):\n",
    "        corpus, eof = build_corpus(read_start, corpus_size, chunk_size, dataset_path)\n",
    "        \n",
    "        if eof:\n",
    "            break\n",
    "        \n",
    "        train_corpus(model, corpus)\n",
    "        \n",
    "        read_start += corpus_size * chunk_size"
   ]
  },
  {
   "cell_type": "code",
   "execution_count": 9,
   "metadata": {},
   "outputs": [
    {
     "name": "stderr",
     "output_type": "stream",
     "text": [
      " 42%|████▏     | 20215/48000 [28:43:27<39:28:51,  5.12s/it] \n"
     ]
    },
    {
     "ename": "FileNotFoundError",
     "evalue": "[Errno 2] No such file or directory: './datasets/combined_train.txt'",
     "output_type": "error",
     "traceback": [
      "\u001b[0;31m---------------------------------------------------------------------------\u001b[0m",
      "\u001b[0;31mFileNotFoundError\u001b[0m                         Traceback (most recent call last)",
      "Cell \u001b[0;32mIn[9], line 1\u001b[0m\n\u001b[0;32m----> 1\u001b[0m \u001b[43mfull_train\u001b[49m\u001b[43m(\u001b[49m\u001b[43mmodel\u001b[49m\u001b[43m,\u001b[49m\u001b[43m \u001b[49m\u001b[43mdataset_path\u001b[49m\u001b[43m,\u001b[49m\u001b[43m \u001b[49m\u001b[38;5;241;43m6000\u001b[39;49m\u001b[43m \u001b[49m\u001b[38;5;241;43m*\u001b[39;49m\u001b[43m \u001b[49m\u001b[38;5;241;43m8\u001b[39;49m\u001b[43m)\u001b[49m\n",
      "Cell \u001b[0;32mIn[8], line 10\u001b[0m, in \u001b[0;36mfull_train\u001b[0;34m(model, dataset_path, train_corpuses)\u001b[0m\n\u001b[1;32m      7\u001b[0m train_corpus(model, corpus, first\u001b[38;5;241m=\u001b[39m\u001b[38;5;28;01mTrue\u001b[39;00m)\n\u001b[1;32m      9\u001b[0m \u001b[38;5;28;01mfor\u001b[39;00m _ \u001b[38;5;129;01min\u001b[39;00m tqdm(\u001b[38;5;28mrange\u001b[39m(train_corpuses)):\n\u001b[0;32m---> 10\u001b[0m     corpus, eof \u001b[38;5;241m=\u001b[39m \u001b[43mbuild_corpus\u001b[49m\u001b[43m(\u001b[49m\u001b[43mread_start\u001b[49m\u001b[43m,\u001b[49m\u001b[43m \u001b[49m\u001b[43mcorpus_size\u001b[49m\u001b[43m,\u001b[49m\u001b[43m \u001b[49m\u001b[43mchunk_size\u001b[49m\u001b[43m,\u001b[49m\u001b[43m \u001b[49m\u001b[43mdataset_path\u001b[49m\u001b[43m)\u001b[49m\n\u001b[1;32m     12\u001b[0m     \u001b[38;5;28;01mif\u001b[39;00m eof:\n\u001b[1;32m     13\u001b[0m         \u001b[38;5;28;01mbreak\u001b[39;00m\n",
      "Cell \u001b[0;32mIn[6], line 5\u001b[0m, in \u001b[0;36mbuild_corpus\u001b[0;34m(read_start, corpus_size, chunk_size, path)\u001b[0m\n\u001b[1;32m      2\u001b[0m corpus \u001b[38;5;241m=\u001b[39m training_corpus()\n\u001b[1;32m      4\u001b[0m \u001b[38;5;28;01mfor\u001b[39;00m _ \u001b[38;5;129;01min\u001b[39;00m \u001b[38;5;28mrange\u001b[39m(corpus_size):\n\u001b[0;32m----> 5\u001b[0m     chunk, eof \u001b[38;5;241m=\u001b[39m \u001b[43mread_chunk\u001b[49m\u001b[43m(\u001b[49m\u001b[43mread_start\u001b[49m\u001b[43m,\u001b[49m\u001b[43m \u001b[49m\u001b[43mchunk_size\u001b[49m\u001b[43m,\u001b[49m\u001b[43m \u001b[49m\u001b[43mpath\u001b[49m\u001b[43m)\u001b[49m\n\u001b[1;32m      7\u001b[0m     \u001b[38;5;66;03m# check eof\u001b[39;00m\n\u001b[1;32m      8\u001b[0m     \u001b[38;5;28;01mif\u001b[39;00m eof:\n",
      "Cell \u001b[0;32mIn[5], line 14\u001b[0m, in \u001b[0;36mread_chunk\u001b[0;34m(read_start, chunk_size, path)\u001b[0m\n\u001b[1;32m      1\u001b[0m \u001b[38;5;28;01mdef\u001b[39;00m \u001b[38;5;21mread_chunk\u001b[39m(read_start: \u001b[38;5;28mint\u001b[39m, chunk_size: \u001b[38;5;28mint\u001b[39m\u001b[38;5;241m=\u001b[39mchunk_size, path: \u001b[38;5;28mstr\u001b[39m\u001b[38;5;241m=\u001b[39mdataset_path) \u001b[38;5;241m-\u001b[39m\u001b[38;5;241m>\u001b[39m \u001b[38;5;28mtuple\u001b[39m[\u001b[38;5;28mstr\u001b[39m, \u001b[38;5;28mbool\u001b[39m]:\n\u001b[1;32m      2\u001b[0m \u001b[38;5;250m    \u001b[39m\u001b[38;5;124;03m\"\"\"\u001b[39;00m\n\u001b[1;32m      3\u001b[0m \u001b[38;5;124;03m    Reads a certain number of characters from a file starting at the specified position.\u001b[39;00m\n\u001b[1;32m      4\u001b[0m \u001b[38;5;124;03m    \u001b[39;00m\n\u001b[0;32m   (...)\u001b[0m\n\u001b[1;32m     11\u001b[0m \u001b[38;5;124;03m        tuple[str, bool]: A tuple containing the loaded chunk and a boolean indicating if EOF is hit.\u001b[39;00m\n\u001b[1;32m     12\u001b[0m \u001b[38;5;124;03m    \"\"\"\u001b[39;00m\n\u001b[0;32m---> 14\u001b[0m     \u001b[38;5;28;01mwith\u001b[39;00m \u001b[38;5;28;43mopen\u001b[39;49m\u001b[43m(\u001b[49m\u001b[43mpath\u001b[49m\u001b[43m,\u001b[49m\u001b[43m \u001b[49m\u001b[38;5;124;43m'\u001b[39;49m\u001b[38;5;124;43mr\u001b[39;49m\u001b[38;5;124;43m'\u001b[39;49m\u001b[43m,\u001b[49m\u001b[43m \u001b[49m\u001b[43mencoding\u001b[49m\u001b[38;5;241;43m=\u001b[39;49m\u001b[38;5;124;43m'\u001b[39;49m\u001b[38;5;124;43mutf-8\u001b[39;49m\u001b[38;5;124;43m'\u001b[39;49m\u001b[43m,\u001b[49m\u001b[43m \u001b[49m\u001b[43merrors\u001b[49m\u001b[38;5;241;43m=\u001b[39;49m\u001b[38;5;124;43m'\u001b[39;49m\u001b[38;5;124;43mignore\u001b[39;49m\u001b[38;5;124;43m'\u001b[39;49m\u001b[43m)\u001b[49m \u001b[38;5;28;01mas\u001b[39;00m file:\n\u001b[1;32m     15\u001b[0m         file\u001b[38;5;241m.\u001b[39mseek(read_start)\n\u001b[1;32m     16\u001b[0m         chunk \u001b[38;5;241m=\u001b[39m file\u001b[38;5;241m.\u001b[39mread(chunk_size)\n",
      "File \u001b[0;32m/opt/conda/envs/pytorch/lib/python3.11/site-packages/IPython/core/interactiveshell.py:310\u001b[0m, in \u001b[0;36m_modified_open\u001b[0;34m(file, *args, **kwargs)\u001b[0m\n\u001b[1;32m    303\u001b[0m \u001b[38;5;28;01mif\u001b[39;00m file \u001b[38;5;129;01min\u001b[39;00m {\u001b[38;5;241m0\u001b[39m, \u001b[38;5;241m1\u001b[39m, \u001b[38;5;241m2\u001b[39m}:\n\u001b[1;32m    304\u001b[0m     \u001b[38;5;28;01mraise\u001b[39;00m \u001b[38;5;167;01mValueError\u001b[39;00m(\n\u001b[1;32m    305\u001b[0m         \u001b[38;5;124mf\u001b[39m\u001b[38;5;124m\"\u001b[39m\u001b[38;5;124mIPython won\u001b[39m\u001b[38;5;124m'\u001b[39m\u001b[38;5;124mt let you open fd=\u001b[39m\u001b[38;5;132;01m{\u001b[39;00mfile\u001b[38;5;132;01m}\u001b[39;00m\u001b[38;5;124m by default \u001b[39m\u001b[38;5;124m\"\u001b[39m\n\u001b[1;32m    306\u001b[0m         \u001b[38;5;124m\"\u001b[39m\u001b[38;5;124mas it is likely to crash IPython. If you know what you are doing, \u001b[39m\u001b[38;5;124m\"\u001b[39m\n\u001b[1;32m    307\u001b[0m         \u001b[38;5;124m\"\u001b[39m\u001b[38;5;124myou can use builtins\u001b[39m\u001b[38;5;124m'\u001b[39m\u001b[38;5;124m open.\u001b[39m\u001b[38;5;124m\"\u001b[39m\n\u001b[1;32m    308\u001b[0m     )\n\u001b[0;32m--> 310\u001b[0m \u001b[38;5;28;01mreturn\u001b[39;00m \u001b[43mio_open\u001b[49m\u001b[43m(\u001b[49m\u001b[43mfile\u001b[49m\u001b[43m,\u001b[49m\u001b[43m \u001b[49m\u001b[38;5;241;43m*\u001b[39;49m\u001b[43margs\u001b[49m\u001b[43m,\u001b[49m\u001b[43m \u001b[49m\u001b[38;5;241;43m*\u001b[39;49m\u001b[38;5;241;43m*\u001b[39;49m\u001b[43mkwargs\u001b[49m\u001b[43m)\u001b[49m\n",
      "\u001b[0;31mFileNotFoundError\u001b[0m: [Errno 2] No such file or directory: './datasets/combined_train.txt'"
     ]
    }
   ],
   "source": [
    "full_train(model, dataset_path, 6000 * 8)"
   ]
  },
  {
   "cell_type": "code",
   "execution_count": null,
   "metadata": {},
   "outputs": [],
   "source": [
    "# benchmark:\n",
    "# 40 min train   /   580 examples"
   ]
  },
  {
   "cell_type": "code",
   "execution_count": 17,
   "metadata": {},
   "outputs": [
    {
     "data": {
      "text/plain": [
       "[('actually', 0.8408448100090027),\n",
       " ('yet', 0.7982712984085083),\n",
       " ('definitely', 0.7838783860206604),\n",
       " ('obviously', 0.7805446982383728),\n",
       " ('never', 0.768481969833374),\n",
       " ('truly', 0.7443915605545044),\n",
       " ('hardly', 0.739519476890564),\n",
       " ('surely', 0.7358772158622742),\n",
       " ('somehow', 0.7274399399757385),\n",
       " ('merely', 0.7270153760910034)]"
      ]
     },
     "execution_count": 17,
     "metadata": {},
     "output_type": "execute_result"
    }
   ],
   "source": [
    "model.wv.similar_by_word(\"always\")"
   ]
  },
  {
   "cell_type": "code",
   "execution_count": 14,
   "metadata": {},
   "outputs": [],
   "source": [
    "model.save(fr\"./embedding_models/ultra_chat_microvector32v2.model\")"
   ]
  },
  {
   "cell_type": "code",
   "execution_count": 15,
   "metadata": {},
   "outputs": [
    {
     "data": {
      "text/plain": [
       "652990"
      ]
     },
     "execution_count": 15,
     "metadata": {},
     "output_type": "execute_result"
    }
   ],
   "source": [
    "len(model.wv)"
   ]
  },
  {
   "cell_type": "code",
   "execution_count": null,
   "metadata": {},
   "outputs": [],
   "source": []
  }
 ],
 "metadata": {
  "kernelspec": {
   "display_name": "CONDA_VENV",
   "language": "python",
   "name": "python3"
  },
  "language_info": {
   "codemirror_mode": {
    "name": "ipython",
    "version": 3
   },
   "file_extension": ".py",
   "mimetype": "text/x-python",
   "name": "python",
   "nbconvert_exporter": "python",
   "pygments_lexer": "ipython3",
   "version": "3.11.9"
  }
 },
 "nbformat": 4,
 "nbformat_minor": 2
}
